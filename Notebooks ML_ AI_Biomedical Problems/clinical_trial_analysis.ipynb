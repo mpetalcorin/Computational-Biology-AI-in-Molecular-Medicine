{
 "cells": [
  {
   "cell_type": "markdown",
   "id": "58075fa0",
   "metadata": {},
   "source": [
    "# Designing Experiments and Clinical Trials\n",
    "This notebook provides a real-life example of designing and analyzing a clinical trial studying the effect of Vitamin D on reducing cold episodes."
   ]
  },
  {
   "cell_type": "code",
   "execution_count": 1,
   "id": "6cd2e63d",
   "metadata": {},
   "outputs": [],
   "source": [
    "import pandas as pd\n",
    "import seaborn as sns\n",
    "import matplotlib.pyplot as plt\n",
    "from scipy.stats import ttest_ind"
   ]
  },
  {
   "cell_type": "markdown",
   "id": "96f62630",
   "metadata": {},
   "source": [
    "## Load and Preview the Dataset"
   ]
  },
  {
   "cell_type": "code",
   "execution_count": 6,
   "id": "f6f9e438",
   "metadata": {},
   "outputs": [
    {
     "data": {
      "text/html": [
       "<div>\n",
       "<style scoped>\n",
       "    .dataframe tbody tr th:only-of-type {\n",
       "        vertical-align: middle;\n",
       "    }\n",
       "\n",
       "    .dataframe tbody tr th {\n",
       "        vertical-align: top;\n",
       "    }\n",
       "\n",
       "    .dataframe thead th {\n",
       "        text-align: right;\n",
       "    }\n",
       "</style>\n",
       "<table border=\"1\" class=\"dataframe\">\n",
       "  <thead>\n",
       "    <tr style=\"text-align: right;\">\n",
       "      <th></th>\n",
       "      <th>participant_id</th>\n",
       "      <th>group</th>\n",
       "      <th>cold_episodes</th>\n",
       "    </tr>\n",
       "  </thead>\n",
       "  <tbody>\n",
       "    <tr>\n",
       "      <th>0</th>\n",
       "      <td>1</td>\n",
       "      <td>treatment</td>\n",
       "      <td>1</td>\n",
       "    </tr>\n",
       "    <tr>\n",
       "      <th>1</th>\n",
       "      <td>2</td>\n",
       "      <td>treatment</td>\n",
       "      <td>0</td>\n",
       "    </tr>\n",
       "    <tr>\n",
       "      <th>2</th>\n",
       "      <td>3</td>\n",
       "      <td>treatment</td>\n",
       "      <td>1</td>\n",
       "    </tr>\n",
       "    <tr>\n",
       "      <th>3</th>\n",
       "      <td>4</td>\n",
       "      <td>treatment</td>\n",
       "      <td>2</td>\n",
       "    </tr>\n",
       "    <tr>\n",
       "      <th>4</th>\n",
       "      <td>5</td>\n",
       "      <td>treatment</td>\n",
       "      <td>1</td>\n",
       "    </tr>\n",
       "  </tbody>\n",
       "</table>\n",
       "</div>"
      ],
      "text/plain": [
       "   participant_id      group  cold_episodes\n",
       "0               1  treatment              1\n",
       "1               2  treatment              0\n",
       "2               3  treatment              1\n",
       "3               4  treatment              2\n",
       "4               5  treatment              1"
      ]
     },
     "execution_count": 6,
     "metadata": {},
     "output_type": "execute_result"
    }
   ],
   "source": [
    "df = pd.read_csv('vitamin_d_cold_study.csv')\n",
    "df.head()"
   ]
  },
  {
   "cell_type": "markdown",
   "id": "d24bc650",
   "metadata": {},
   "source": [
    "## Compare Cold Episodes Between Groups"
   ]
  },
  {
   "cell_type": "code",
   "execution_count": 9,
   "id": "cbc9b0ca",
   "metadata": {},
   "outputs": [
    {
     "data": {
      "image/png": "[encoded data removed]",
      "text/plain": [
       "<Figure size 640x480 with 1 Axes>"
      ]
     },
     "metadata": {},
     "output_type": "display_data"
    }
   ],
   "source": [
    "sns.boxplot(x='group', y='cold_episodes', data=df)\n",
    "plt.title('Cold Episodes by Group')\n",
    "plt.show()"
   ]
  },
  {
   "cell_type": "markdown",
   "id": "973b3e04",
   "metadata": {},
   "source": [
    "## Statistical Test (T-test)"
   ]
  },
  {
   "cell_type": "code",
   "execution_count": 12,
   "id": "c97aa44f",
   "metadata": {},
   "outputs": [
    {
     "name": "stdout",
     "output_type": "stream",
     "text": [
      "T-statistic: -6.128, P-value: 0.0000\n"
     ]
    }
   ],
   "source": [
    "treatment = df[df['group'] == 'treatment']['cold_episodes']\n",
    "control = df[df['group'] == 'control']['cold_episodes']\n",
    "t_stat, p_value = ttest_ind(treatment, control)\n",
    "print(f\"T-statistic: {t_stat:.3f}, P-value: {p_value:.4f}\")"
   ]
  },
  {
   "cell_type": "markdown",
   "id": "c1e7063f",
   "metadata": {},
   "source": [
    "## Interpretation\n",
    "If the p-value is less than 0.05, we conclude that Vitamin D has a statistically significant effect on reducing cold episodes."
   ]
  },
  {
   "cell_type": "code",
   "execution_count": null,
   "id": "3adec360-e35b-411e-a161-dccd30349e7c",
   "metadata": {},
   "outputs": [],
   "source": []
  }
 ],
 "metadata": {
  "kernelspec": {
   "display_name": "Python [conda env:base] *",
   "language": "python",
   "name": "conda-base-py"
  },
  "language_info": {
   "codemirror_mode": {
    "name": "ipython",
    "version": 3
   },
   "file_extension": ".py",
   "mimetype": "text/x-python",
   "name": "python",
   "nbconvert_exporter": "python",
   "pygments_lexer": "ipython3",
   "version": "3.12.2"
  }
 },
 "nbformat": 4,
 "nbformat_minor": 5
}
