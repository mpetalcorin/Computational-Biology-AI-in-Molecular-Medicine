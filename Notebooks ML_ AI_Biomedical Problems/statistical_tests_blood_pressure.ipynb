{
 "cells": [
  {
   "cell_type": "markdown",
   "id": "c7cc5373",
   "metadata": {},
   "source": [
    "# Statistical Tests in Biomedical Research\n",
    "## Comparing Blood Pressure Before and After Treatment"
   ]
  },
  {
   "cell_type": "code",
   "execution_count": 3,
   "id": "52419465",
   "metadata": {},
   "outputs": [
    {
     "data": {
      "text/html": [
       "<div>\n",
       "<style scoped>\n",
       "    .dataframe tbody tr th:only-of-type {\n",
       "        vertical-align: middle;\n",
       "    }\n",
       "\n",
       "    .dataframe tbody tr th {\n",
       "        vertical-align: top;\n",
       "    }\n",
       "\n",
       "    .dataframe thead th {\n",
       "        text-align: right;\n",
       "    }\n",
       "</style>\n",
       "<table border=\"1\" class=\"dataframe\">\n",
       "  <thead>\n",
       "    <tr style=\"text-align: right;\">\n",
       "      <th></th>\n",
       "      <th>patient_id</th>\n",
       "      <th>treatment_group</th>\n",
       "      <th>systolic_bp_before</th>\n",
       "      <th>systolic_bp_after</th>\n",
       "    </tr>\n",
       "  </thead>\n",
       "  <tbody>\n",
       "    <tr>\n",
       "      <th>0</th>\n",
       "      <td>1</td>\n",
       "      <td>A</td>\n",
       "      <td>140</td>\n",
       "      <td>132</td>\n",
       "    </tr>\n",
       "    <tr>\n",
       "      <th>1</th>\n",
       "      <td>2</td>\n",
       "      <td>A</td>\n",
       "      <td>142</td>\n",
       "      <td>135</td>\n",
       "    </tr>\n",
       "    <tr>\n",
       "      <th>2</th>\n",
       "      <td>3</td>\n",
       "      <td>A</td>\n",
       "      <td>138</td>\n",
       "      <td>130</td>\n",
       "    </tr>\n",
       "    <tr>\n",
       "      <th>3</th>\n",
       "      <td>4</td>\n",
       "      <td>A</td>\n",
       "      <td>145</td>\n",
       "      <td>138</td>\n",
       "    </tr>\n",
       "    <tr>\n",
       "      <th>4</th>\n",
       "      <td>5</td>\n",
       "      <td>A</td>\n",
       "      <td>139</td>\n",
       "      <td>134</td>\n",
       "    </tr>\n",
       "  </tbody>\n",
       "</table>\n",
       "</div>"
      ],
      "text/plain": [
       "   patient_id treatment_group  systolic_bp_before  systolic_bp_after\n",
       "0           1               A                 140                132\n",
       "1           2               A                 142                135\n",
       "2           3               A                 138                130\n",
       "3           4               A                 145                138\n",
       "4           5               A                 139                134"
      ]
     },
     "execution_count": 3,
     "metadata": {},
     "output_type": "execute_result"
    }
   ],
   "source": [
    "import pandas as pd\n",
    "from scipy import stats\n",
    "import seaborn as sns\n",
    "import matplotlib.pyplot as plt\n",
    "\n",
    "df = pd.read_csv('blood_pressure_treatment_data.csv')\n",
    "df.head()"
   ]
  },
  {
   "cell_type": "markdown",
   "id": "bc703e8e",
   "metadata": {},
   "source": [
    "### Paired t-test: Effectiveness of Treatments in Lowering Blood Pressure"
   ]
  },
  {
   "cell_type": "code",
   "execution_count": 6,
   "id": "e08811e3",
   "metadata": {},
   "outputs": [
    {
     "name": "stdout",
     "output_type": "stream",
     "text": [
      "Group A: t=40.74, p=0.0000\n",
      "Group B: t=29.04, p=0.0000\n"
     ]
    }
   ],
   "source": [
    "# Split by treatment group\n",
    "group_a = df[df['treatment_group'] == 'A']\n",
    "group_b = df[df['treatment_group'] == 'B']\n",
    "\n",
    "# Paired t-test within each group\n",
    "t_stat_a, p_val_a = stats.ttest_rel(group_a['systolic_bp_before'], group_a['systolic_bp_after'])\n",
    "t_stat_b, p_val_b = stats.ttest_rel(group_b['systolic_bp_before'], group_b['systolic_bp_after'])\n",
    "\n",
    "print(f\"Group A: t={t_stat_a:.2f}, p={p_val_a:.4f}\")\n",
    "print(f\"Group B: t={t_stat_b:.2f}, p={p_val_b:.4f}\")"
   ]
  },
  {
   "cell_type": "markdown",
   "id": "8608a41a",
   "metadata": {},
   "source": [
    "### Visualization of Blood Pressure Changes"
   ]
  },
  {
   "cell_type": "code",
   "execution_count": 9,
   "id": "c12537b0",
   "metadata": {},
   "outputs": [
    {
     "data": {
      "image/png": "[encoded data removed]",
      "text/plain": [
       "<Figure size 1000x600 with 1 Axes>"
      ]
     },
     "metadata": {},
     "output_type": "display_data"
    }
   ],
   "source": [
    "sns.set(style='whitegrid')\n",
    "plt.figure(figsize=(10, 6))\n",
    "sns.boxplot(data=df, x='treatment_group', y='systolic_bp_before', color='lightblue')\n",
    "sns.boxplot(data=df, x='treatment_group', y='systolic_bp_after', color='lightgreen')\n",
    "plt.title('Blood Pressure Before and After Treatment by Group')\n",
    "plt.ylabel('Systolic Blood Pressure')\n",
    "plt.show()"
   ]
  },
  {
   "cell_type": "markdown",
   "id": "4e581a55",
   "metadata": {},
   "source": [
    "### Results and Discussion\n",
    "The boxplot visualizes **systolic blood pressure (SBP) measurements before and after treatment** in two distinct groups labeled **Group A** and **Group B**. Each group underwent a different treatment, and the goal is to assess whether the interventions had a significant effect on reducing systolic blood pressure and how the outcomes compare between treatments.In the plot, **blue boxplots** represent **SBP before treatment**, while the **green boxplots** represent **SBP after treatment**.\n",
    "#### Group AIn Group A, \n",
    "the **median systolic blood pressure before treatment** was around **141 mmHg**, while after treatment it dropped to approximately **134 mmHg**. Although there is a visible reduction in blood pressure post-treatment, the boxes (representing interquartile ranges) still overlap slightly. This suggests **a moderate but not dramatic reduction** in blood pressure. The paired t-test result for Group A (as generated in the notebook) yielded a **p-value** that needs to be less than **0.05** to be considered statistically significant. If this criterion is met, we can say the reduction in SBP for Group A is **statistically significant**.\n",
    "#### Group BIn Group B, \n",
    "the initial **median systolic blood pressure** was around **136 mmHg**, and it dropped sharply to about **127 mmHg** after treatment. The spread of the post-treatment values is narrower, suggesting **more consistent responses to the treatment**. Additionally, the green box for post-treatment values is clearly lower and does not overlap with the pre-treatment box. This visual pattern strongly suggests a **statistically significant and clinically meaningful reduction** in systolic blood pressure due to the treatment applied to Group B.\n",
    "#### Comparison Between Groups\n",
    "When comparing the two groups:Both treatments reduced blood pressure, but **Group B experienced a greater and more consistent reduction**.The before-treatment values were slightly lower in Group B to begin with, but the post-treatment values are substantially lower, suggesting **Group B’s treatment was more effective**.The visual separation between the before and after boxplots is much more pronounced in Group B.\n",
    "#### Statistical Significance and Interpretation\n",
    "According to the results from the **paired t-tests**:If Group A has a p-value less than 0.05, then the reduction is statistically significant but less pronounced than in Group B.If Group B also has a p-value much smaller than 0.05, it confirms that the observed drop is **unlikely due to chance** and highlights **a more effective treatment outcome**.\n",
    "#### Clinical Implications\n",
    "These findings support the hypothesis that both treatments help reduce systolic blood pressure, but the treatment administered to Group B appears to offer superior benefits. From a clinical standpoint, this could influence future recommendations or guidelines for managing hypertension. For example, if Group B’s treatment is a novel drug or lifestyle intervention, these results warrant further exploration in larger, more diverse populations.\n",
    "#### Conclusion\n",
    "This visual and statistical analysis demonstrates how **basic statistical tests such as the paired t-test**, combined with clear **data visualization**, can guide biomedical decision-making. The greater impact of the treatment in Group B should be explored further in follow-up studies, possibly including longer-term monitoring and subgroup analyses."
   ]
  },
  {
   "cell_type": "code",
   "execution_count": null,
   "id": "43cb8c3c-c155-4c9d-9f1e-feeeb4385546",
   "metadata": {},
   "outputs": [],
   "source": []
  }
 ],
 "metadata": {
  "kernelspec": {
   "display_name": "Python (qiskit_legacy_env)",
   "language": "python",
   "name": "qiskit_legacy_env"
  },
  "language_info": {
   "codemirror_mode": {
    "name": "ipython",
    "version": 3
   },
   "file_extension": ".py",
   "mimetype": "text/x-python",
   "name": "python",
   "nbconvert_exporter": "python",
   "pygments_lexer": "ipython3",
   "version": "3.9.21"
  }
 },
 "nbformat": 4,
 "nbformat_minor": 5
}
