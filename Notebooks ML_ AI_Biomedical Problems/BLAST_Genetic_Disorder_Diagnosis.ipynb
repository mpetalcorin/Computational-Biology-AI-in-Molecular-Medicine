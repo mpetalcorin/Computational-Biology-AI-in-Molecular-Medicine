{
 "cells": [
  {
   "cell_type": "markdown",
   "id": "134ab71d",
   "metadata": {},
   "source": [
    "# Using BLAST to Diagnose Genetic Disorders\n",
    "This notebook demonstrates how to use BLAST (Basic Local Alignment Search Tool) for real-life diagnosis of genetic disorders using publicly available genetic sequence data.\n",
    "\n",
    "**Learning Objectives:**\n",
    "- Understand how to input a DNA sequence and perform a BLAST search\n",
    "- Analyze the output and identify potential genetic disorders\n",
    "- Explore a real dataset from NCBI or GenBank\n",
    "- Interpret BLAST results in a clinical context"
   ]
  },
  {
   "cell_type": "markdown",
   "id": "e7c0ae2d",
   "metadata": {},
   "source": [
    "## Setup\n",
    "We'll use Biopython to interact with NCBI's BLAST API (online BLAST search)."
   ]
  },
  {
   "cell_type": "code",
   "execution_count": 7,
   "id": "a2bdb13b",
   "metadata": {},
   "outputs": [],
   "source": [
    "!pip install biopython -q"
   ]
  },
  {
   "cell_type": "code",
   "execution_count": 8,
   "id": "59ed7ace",
   "metadata": {},
   "outputs": [],
   "source": [
    "from Bio.Blast import NCBIWWW, NCBIXML\n",
    "from Bio import SeqIO\n",
    "from Bio.Seq import Seq\n",
    "from Bio.SeqRecord import SeqRecord\n",
    "\n",
    "# Example: SMN1 gene mutation from a patient suspected of Spinal Muscular Atrophy\n",
    "sequence_data = SeqRecord(Seq(\"ATGGCGGAGACCCGAAATGAGCAGCGGCGGCAGCGGCGG\"), id=\"PatientSMN1\")"
   ]
  },
  {
   "cell_type": "markdown",
   "id": "1dfb3195",
   "metadata": {},
   "source": [
    "## Run BLAST Search\n",
    "We'll submit the sequence to NCBI BLAST and get the results (requires internet access)."
   ]
  },
  {
   "cell_type": "code",
   "execution_count": 10,
   "id": "9b7aa1a8",
   "metadata": {},
   "outputs": [],
   "source": [
    "# Warning: This query takes time and requires internet access.\n",
    "# Uncomment to run in a live environment with internet.\n",
    "\n",
    "result_handle = NCBIWWW.qblast(\"blastn\", \"nt\", sequence_data.format(\"fasta\"))\n",
    "with open(\"blast_result.xml\", \"w\") as out_handle:\n",
    "    out_handle.write(result_handle.read())\n",
    "result_handle.close()"
   ]
  },
  {
   "cell_type": "markdown",
   "id": "9bff40b2",
   "metadata": {},
   "source": [
    "## Parse BLAST Output\n",
    "Let's load and parse the saved XML file from the BLAST results."
   ]
  },
  {
   "cell_type": "code",
   "execution_count": 19,
   "id": "2636c069",
   "metadata": {},
   "outputs": [],
   "source": [
    "# Load BLAST XML output (simulated)\n",
    "result_handle = open(\"blast_result.xml\")\n",
    "blast_record = NCBIXML.read(result_handle)\n",
    "for alignment in blast_record.alignments:\n",
    "    for hsp in alignment.hsps:\n",
    "        if hsp.expect < 0.01:\n",
    "            print(f\"****Alignment****\")\n",
    "            print(f\"sequence: {alignment.title}\")\n",
    "            print(f\"length: {alignment.length}\")\n",
    "            print(f\"e value: {hsp.expect}\")\n",
    "            print(hsp.query)\n",
    "            print(hsp.match)\n",
    "            print(hsp.sbjct)"
   ]
  },
  {
   "cell_type": "markdown",
   "id": "4df456bb",
   "metadata": {},
   "source": [
    "## Clinical Interpretation\n",
    "Matches to SMN1 or related sequences would support a diagnosis of Spinal Muscular Atrophy.\n",
    "\n",
    "**Example Resources:**\n",
    "- https://www.ncbi.nlm.nih.gov/gene/6606\n",
    "- https://blast.ncbi.nlm.nih.gov/Blast.cgi\n",
    "\n",
    "**Reference:** Lefebvre et al., Cell, 1995"
   ]
  },
  {
   "cell_type": "code",
   "execution_count": null,
   "id": "d75d40f6-2af8-4277-845c-f648cb8addb8",
   "metadata": {},
   "outputs": [],
   "source": []
  }
 ],
 "metadata": {
  "kernelspec": {
   "display_name": "Python [conda env:base] *",
   "language": "python",
   "name": "conda-base-py"
  },
  "language_info": {
   "codemirror_mode": {
    "name": "ipython",
    "version": 3
   },
   "file_extension": ".py",
   "mimetype": "text/x-python",
   "name": "python",
   "nbconvert_exporter": "python",
   "pygments_lexer": "ipython3",
   "version": "3.12.2"
  }
 },
 "nbformat": 4,
 "nbformat_minor": 5
}
