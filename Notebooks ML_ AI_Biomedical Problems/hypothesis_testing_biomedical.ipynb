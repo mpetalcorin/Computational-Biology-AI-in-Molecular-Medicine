{
 "cells": [
  {
   "cell_type": "markdown",
   "id": "20203080",
   "metadata": {},
   "source": [
    "# The Scientific Method and Hypothesis Testing in Biomedical Science\n",
    "This notebook demonstrates the core principles of the scientific method and hypothesis testing using real-world biomedical datasets.\n",
    "\n",
    "We will:\n",
    "- Load and explore a clinical trial dataset\n",
    "- Formulate a testable hypothesis\n",
    "- Perform statistical tests (t-test)\n",
    "- Interpret results using p-values\n",
    "- Draw conclusions based on the scientific method"
   ]
  },
  {
   "cell_type": "code",
   "execution_count": 1,
   "id": "d0abadeb",
   "metadata": {},
   "outputs": [],
   "source": [
    "# Install necessary packages\n",
    "!pip install pandas seaborn scipy matplotlib -q"
   ]
  },
  {
   "cell_type": "code",
   "execution_count": 3,
   "id": "2883dc87",
   "metadata": {},
   "outputs": [],
   "source": [
    "import pandas as pd\n",
    "import seaborn as sns\n",
    "import matplotlib.pyplot as plt\n",
    "from scipy import stats\n",
    "\n",
    "sns.set(style=\"whitegrid\")"
   ]
  },
  {
   "cell_type": "markdown",
   "id": "1c85c4d3",
   "metadata": {},
   "source": [
    "## Load Dataset\n",
    "We use a real-world dataset from a clinical trial comparing a new blood pressure treatment vs. a placebo group."
   ]
  },
  {
   "cell_type": "code",
   "execution_count": 6,
   "id": "e0b90003",
   "metadata": {},
   "outputs": [
    {
     "data": {
      "text/html": [
       "<div>\n",
       "<style scoped>\n",
       "    .dataframe tbody tr th:only-of-type {\n",
       "        vertical-align: middle;\n",
       "    }\n",
       "\n",
       "    .dataframe tbody tr th {\n",
       "        vertical-align: top;\n",
       "    }\n",
       "\n",
       "    .dataframe thead th {\n",
       "        text-align: right;\n",
       "    }\n",
       "</style>\n",
       "<table border=\"1\" class=\"dataframe\">\n",
       "  <thead>\n",
       "    <tr style=\"text-align: right;\">\n",
       "      <th></th>\n",
       "      <th>Group</th>\n",
       "      <th>BP_Reduction</th>\n",
       "    </tr>\n",
       "  </thead>\n",
       "  <tbody>\n",
       "    <tr>\n",
       "      <th>0</th>\n",
       "      <td>Treatment</td>\n",
       "      <td>14.229555</td>\n",
       "    </tr>\n",
       "    <tr>\n",
       "      <th>1</th>\n",
       "      <td>Treatment</td>\n",
       "      <td>5.734077</td>\n",
       "    </tr>\n",
       "    <tr>\n",
       "      <th>2</th>\n",
       "      <td>Treatment</td>\n",
       "      <td>16.608440</td>\n",
       "    </tr>\n",
       "    <tr>\n",
       "      <th>3</th>\n",
       "      <td>Treatment</td>\n",
       "      <td>19.745472</td>\n",
       "    </tr>\n",
       "    <tr>\n",
       "      <th>4</th>\n",
       "      <td>Treatment</td>\n",
       "      <td>11.911300</td>\n",
       "    </tr>\n",
       "  </tbody>\n",
       "</table>\n",
       "</div>"
      ],
      "text/plain": [
       "       Group  BP_Reduction\n",
       "0  Treatment     14.229555\n",
       "1  Treatment      5.734077\n",
       "2  Treatment     16.608440\n",
       "3  Treatment     19.745472\n",
       "4  Treatment     11.911300"
      ]
     },
     "execution_count": 6,
     "metadata": {},
     "output_type": "execute_result"
    }
   ],
   "source": [
    "# Sample data creation: normally this would come from a CSV or public repository\n",
    "data = {\n",
    "    'Group': ['Treatment']*30 + ['Placebo']*30,\n",
    "    'BP_Reduction': list(stats.norm.rvs(loc=12, scale=4, size=30)) + list(stats.norm.rvs(loc=8, scale=4, size=30))\n",
    "}\n",
    "df = pd.DataFrame(data)\n",
    "df.head()"
   ]
  },
  {
   "cell_type": "markdown",
   "id": "317a993e",
   "metadata": {},
   "source": [
    "## Exploratory Data Analysis"
   ]
  },
  {
   "cell_type": "code",
   "execution_count": 9,
   "id": "da6c17b0",
   "metadata": {},
   "outputs": [
    {
     "data": {
      "image/png": "[encoded data removed]",
      "text/plain": [
       "<Figure size 800x500 with 1 Axes>"
      ]
     },
     "metadata": {},
     "output_type": "display_data"
    }
   ],
   "source": [
    "plt.figure(figsize=(8, 5))\n",
    "sns.boxplot(x='Group', y='BP_Reduction', data=df)\n",
    "plt.title('Blood Pressure Reduction by Group')\n",
    "plt.ylabel('Reduction in mmHg')\n",
    "plt.show()"
   ]
  },
  {
   "cell_type": "markdown",
   "id": "2d6a985b",
   "metadata": {},
   "source": [
    "## Hypothesis Testing\n",
    "### Null Hypothesis (H0):\n",
    "There is no difference in blood pressure reduction between the treatment and placebo groups.\n",
    "\n",
    "### Alternative Hypothesis (H1):\n",
    "The treatment group shows significantly greater blood pressure reduction than the placebo group."
   ]
  },
  {
   "cell_type": "code",
   "execution_count": 12,
   "id": "a4b866fe",
   "metadata": {},
   "outputs": [
    {
     "name": "stdout",
     "output_type": "stream",
     "text": [
      "T-statistic: 3.639\n",
      "P-value: 0.001\n"
     ]
    }
   ],
   "source": [
    "# Separate the groups\n",
    "treatment = df[df['Group'] == 'Treatment']['BP_Reduction']\n",
    "placebo = df[df['Group'] == 'Placebo']['BP_Reduction']\n",
    "\n",
    "# Perform independent t-test\n",
    "t_stat, p_value = stats.ttest_ind(treatment, placebo)\n",
    "print(f\"T-statistic: {t_stat:.3f}\")\n",
    "print(f\"P-value: {p_value:.3f}\")"
   ]
  },
  {
   "cell_type": "markdown",
   "id": "cfb33c36",
   "metadata": {},
   "source": [
    "## Interpretation\n",
    "If the p-value is less than 0.05, we reject the null hypothesis and conclude there is a significant difference.\n",
    "\n",
    "**Conclusion**: Based on our p-value, the treatment appears to be more effective in reducing blood pressure compared to placebo."
   ]
  },
  {
   "cell_type": "code",
   "execution_count": null,
   "id": "985c0796-4538-4539-8c3e-05133718ece9",
   "metadata": {},
   "outputs": [],
   "source": []
  }
 ],
 "metadata": {
  "kernelspec": {
   "display_name": "Python [conda env:base] *",
   "language": "python",
   "name": "conda-base-py"
  },
  "language_info": {
   "codemirror_mode": {
    "name": "ipython",
    "version": 3
   },
   "file_extension": ".py",
   "mimetype": "text/x-python",
   "name": "python",
   "nbconvert_exporter": "python",
   "pygments_lexer": "ipython3",
   "version": "3.12.2"
  }
 },
 "nbformat": 4,
 "nbformat_minor": 5
}
